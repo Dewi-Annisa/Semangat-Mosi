{
 "cells": [
  {
   "cell_type": "code",
   "execution_count": null,
   "metadata": {},
   "outputs": [],
   "source": [
    "import matplotlib.pyplot as plt\n",
    "import numpy\n",
    "import math"
   ]
  },
  {
   "cell_type": "code",
   "execution_count": null,
   "metadata": {},
   "outputs": [],
   "source": [
    "g = 9.806\n",
    "ax = 0\n",
    "ay = -g"
   ]
  },
  {
   "cell_type": "code",
   "execution_count": null,
   "metadata": {},
   "outputs": [],
   "source": [
    "V = float(input('Masukkan Kecepatan : '))\n",
    "degree = float(input('Masukkan Sudut Kemiringan : '))\n",
    "deltaT = float(input('Masukkan Time Delta : '))\n",
    "Sin = round(math.sin(math.radians(degree)),2)\n",
    "Cos = math.cos(math.radians(degree))"
   ]
  },
  {
   "cell_type": "code",
   "execution_count": null,
   "metadata": {},
   "outputs": [],
   "source": [
    "print (g)\n",
    "print (ax)\n",
    "print (ay)\n",
    "print (V)\n",
    "print (degree)\n",
    "print (deltaT)\n",
    "print (Sin)\n",
    "print (Cos)"
   ]
  }
 ],
 "metadata": {
  "kernelspec": {
   "display_name": "Python 3",
   "language": "python",
   "name": "python3"
  },
  "language_info": {
   "codemirror_mode": {
    "name": "ipython",
    "version": 3
   },
   "file_extension": ".py",
   "mimetype": "text/x-python",
   "name": "python",
   "nbconvert_exporter": "python",
   "pygments_lexer": "ipython3",
   "version": "3.7.4"
  }
 },
 "nbformat": 4,
 "nbformat_minor": 2
}
